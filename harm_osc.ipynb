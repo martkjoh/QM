{
 "cells": [
  {
   "cell_type": "markdown",
   "metadata": {},
   "source": [
    "# Time evolution of harmonic oscillator\n",
    "### By Martin Johnsrud"
   ]
  },
  {
   "cell_type": "markdown",
   "metadata": {},
   "source": [
    "Time evolution is done as in [this poject](https://github.com/martkjoh/VitBer/blob/master/VitBer%20-%20Prosjekt%202/VitBer%20%C3%B8ving%202.ipynb)."
   ]
  },
  {
   "cell_type": "code",
   "execution_count": null,
   "metadata": {},
   "outputs": [],
   "source": [
    "import matplotlib as mpl\n",
    "from matplotlib import cm\n",
    "import matplotlib.pyplot as plt\n",
    "import scipy.linalg as la\n",
    "import numpy as np\n",
    "from numpy import pi\n",
    "\n",
    "font = {'family' : 'serif', \n",
    "        'weight' : 'normal', \n",
    "        'size'   : 25}\n",
    "plt.rcParams['mathtext.fontset'] = 'dejavuserif'\n",
    "plt.rc(\"lines\", lw=2)\n",
    "plt.rc('font', **font)"
   ]
  },
  {
   "cell_type": "code",
   "execution_count": null,
   "metadata": {},
   "outputs": [],
   "source": [
    "def solveTUSL(V, L):\n",
    "    \n",
    "    # D1 are the main diagonal of the Hameltonian, D2 are of the diagonal\n",
    "    dx = L / (len(V) + 1)\n",
    "    D1 = 2 / dx**2 * np.ones(len(V)) + V\n",
    "    D2 = -1 / dx**2 * np.ones(len(V) - 1)\n",
    "    return la.eigh_tridiagonal(D1, D2)"
   ]
  },
  {
   "cell_type": "code",
   "execution_count": null,
   "metadata": {},
   "outputs": [],
   "source": [
    "def plotWF(x, psi, V):\n",
    "    fig, ax = plt.subplots()\n",
    "    ax.plot(x, psi)\n",
    "    ax2 = ax.twinx()\n",
    "    ax2.plot(x, V, \"k--\")\n",
    "    return ax"
   ]
  },
  {
   "cell_type": "code",
   "execution_count": null,
   "metadata": {},
   "outputs": [],
   "source": [
    "L = 10\n",
    "N = 1000\n",
    "E0 = 10\n",
    "x = np.linspace(-L / 2, L/2, N)\n",
    "V = E0 * x**2\n",
    "\n",
    "E, psi = solveTUSL(V, 2*L)\n",
    "plotWF(x, psi[:, 20], V)\n",
    "plt.show()"
   ]
  },
  {
   "cell_type": "code",
   "execution_count": null,
   "metadata": {},
   "outputs": [],
   "source": [
    "def f(x, Sx, x0 = 0, p0 = 0):\n",
    "    return (2 * np.pi * Sx)**(-1/4) * np.exp(-(x - x0)**2 / (4 * Sx))"
   ]
  },
  {
   "cell_type": "code",
   "execution_count": null,
   "metadata": {},
   "outputs": [],
   "source": [
    "dt = 0.02\n",
    "frames = 200\n",
    "t = np.arange(0, N * dt, dt)\n",
    "\n",
    "c = psi.T @ f(x, 0.05, 2)\n",
    "Psi = lambda t: psi @ (c * np.exp(-1j*E*t))"
   ]
  },
  {
   "cell_type": "code",
   "execution_count": null,
   "metadata": {},
   "outputs": [],
   "source": [
    "from matplotlib.animation import FuncAnimation as anim\n",
    "from IPython.display import HTML\n",
    "\n",
    "fig, ax = plt.subplots(1, figsize=(22, 10))\n",
    "l = ax.plot(x, abs(Psi(0))**2)[0]\n",
    "\n",
    "def animate(n, Psi):\n",
    "#     ax.cla()\n",
    "    l.set_data(x, abs(Psi(n*dt))**2)\n",
    "    return l\n",
    "\n",
    "a = anim(fig, animate, fargs = (Psi,), frames=frames, interval=100)\n",
    "plt.close(fig)\n",
    "HTML(a.to_jshtml())"
   ]
  }
 ],
 "metadata": {
  "kernelspec": {
   "display_name": "Python 3",
   "language": "python",
   "name": "python3"
  },
  "language_info": {
   "codemirror_mode": {
    "name": "ipython",
    "version": 3
   },
   "file_extension": ".py",
   "mimetype": "text/x-python",
   "name": "python",
   "nbconvert_exporter": "python",
   "pygments_lexer": "ipython3",
   "version": "3.7.2"
  }
 },
 "nbformat": 4,
 "nbformat_minor": 2
}
